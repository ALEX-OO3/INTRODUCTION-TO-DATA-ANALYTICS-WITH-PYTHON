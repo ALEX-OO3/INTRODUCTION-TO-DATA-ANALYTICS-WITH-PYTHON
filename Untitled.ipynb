{
 "cells": [
  {
   "cell_type": "code",
   "execution_count": null,
   "id": "247557e0-6ba6-4afc-94e4-eacfbc0a23e4",
   "metadata": {},
   "outputs": [],
   "source": [
    "first=\"alex\"\n",
    "second=\" momanyi\""
   ]
  },
  {
   "cell_type": "code",
   "execution_count": null,
   "id": "ffe47275-c48f-404e-b2ad-9ad190478bf1",
   "metadata": {},
   "outputs": [],
   "source": [
    "first+second"
   ]
  },
  {
   "cell_type": "code",
   "execution_count": null,
   "id": "b4c0399c-9e49-4566-b6d9-22955ea3ab6e",
   "metadata": {},
   "outputs": [],
   "source": [
    "second=\"simako\""
   ]
  },
  {
   "cell_type": "code",
   "execution_count": null,
   "id": "ca7b8712-faf6-43b3-be5b-36fc4097faaf",
   "metadata": {},
   "outputs": [],
   "source": [
    "second[0]"
   ]
  },
  {
   "cell_type": "code",
   "execution_count": null,
   "id": "6e0ebc6c-a598-4281-bcbf-c95ce4d10645",
   "metadata": {},
   "outputs": [],
   "source": [
    "second[5]"
   ]
  },
  {
   "cell_type": "code",
   "execution_count": null,
   "id": "82caac57-e581-4f34-a5fe-d58c07743d59",
   "metadata": {},
   "outputs": [],
   "source": [
    "fullname=first+\" \"+second\n",
    "fullname"
   ]
  },
  {
   "cell_type": "code",
   "execution_count": null,
   "id": "6ccb739c-c70c-4517-a285-e97ab87fea0b",
   "metadata": {},
   "outputs": [],
   "source": [
    "fullname[0:]"
   ]
  },
  {
   "cell_type": "code",
   "execution_count": null,
   "id": "d30b0029-01a4-4291-b166-1597a41cef3a",
   "metadata": {},
   "outputs": [],
   "source": [
    "name=input(\"enter first name\")"
   ]
  },
  {
   "cell_type": "code",
   "execution_count": null,
   "id": "e8922062-915d-4baf-ab9f-3a38424700ec",
   "metadata": {},
   "outputs": [],
   "source": [
    "print(name)"
   ]
  },
  {
   "cell_type": "code",
   "execution_count": null,
   "id": "c581a0db-1611-4021-9295-27d3b694f8d5",
   "metadata": {},
   "outputs": [],
   "source": [
    "for i in range (11):\n",
    "    print(i)"
   ]
  },
  {
   "cell_type": "code",
   "execution_count": null,
   "id": "995d83fd-67e5-4b3c-b657-e4703efba88f",
   "metadata": {},
   "outputs": [],
   "source": [
    "for chr in fullname:\n",
    "    print(chr)"
   ]
  },
  {
   "cell_type": "code",
   "execution_count": null,
   "id": "affee7c2-0aa6-4ca7-8532-d72cc99354b0",
   "metadata": {},
   "outputs": [],
   "source": [
    "for i in range(1,5,2):\n",
    "    print(i)"
   ]
  },
  {
   "cell_type": "code",
   "execution_count": null,
   "id": "43b8e81d-d3f1-423b-afb7-c498fe582980",
   "metadata": {},
   "outputs": [],
   "source": [
    "import matplotlib.pyplot as plt\n",
    "import numpy as np\n",
    "\n",
    "y = np.array([35, 25, 25, 15])\n",
    "mylabels = [\"alex\", \"simba\", \"momanyi\", \"simako\"]\n",
    "\n",
    "plt.pie(y, labels = mylabels)\n",
    "plt.show() "
   ]
  },
  {
   "cell_type": "code",
   "execution_count": null,
   "id": "1c5f3645-0a51-4748-aaef-a691db12aaf1",
   "metadata": {},
   "outputs": [],
   "source": [
    "#1,2,3,4,5,6,7,8,9,10\n",
    "for x in range (1,11):\n",
    "    print(x)"
   ]
  },
  {
   "cell_type": "code",
   "execution_count": null,
   "id": "dc4e9f4f-c185-48f4-a96a-717afe838c46",
   "metadata": {},
   "outputs": [],
   "source": [
    "#1,2,3,4,5,6,7,8,9,10\n",
    "for x in range (1,11):\n",
    "    print(x,end=\",\")"
   ]
  },
  {
   "cell_type": "code",
   "execution_count": null,
   "id": "b0a5ff20-8a8c-466f-9f0b-722ff9db6b52",
   "metadata": {},
   "outputs": [],
   "source": []
  },
  {
   "cell_type": "code",
   "execution_count": null,
   "id": "8bb63a94-dc08-4ad9-80f1-1ddc8907b5ce",
   "metadata": {},
   "outputs": [],
   "source": [
    "#1,2,3,4,5,6,7,8,9,10\n",
    "total=0\n",
    "for x in range(1,11):\n",
    "    total+=x\n",
    "    print(x,end=\",\")\n",
    "    \n",
    "    print(\"\\n\",total)"
   ]
  },
  {
   "cell_type": "code",
   "execution_count": 5,
   "id": "e5cdd5ef-85c8-4ddc-b1d7-a67c88242607",
   "metadata": {},
   "outputs": [
    {
     "name": "stdin",
     "output_type": "stream",
     "text": [
      "enter age:  3\n",
      "enter age:  3\n",
      "enter age:  34\n",
      "enter age:  5\n"
     ]
    },
    {
     "name": "stdout",
     "output_type": "stream",
     "text": [
      "45 11.25\n"
     ]
    }
   ],
   "source": [
    "x=int(input(\"enter age: \"))\n",
    "y=int(input(\"enter age: \"))\n",
    "z=int(input(\"enter age: \"))\n",
    "xy=int(input(\"enter age: \"))\n",
    "\n",
    "total=x+y+z+xy\n",
    "average=total/4\n",
    "print(total,average)\n",
    "\n",
    "\n"
   ]
  },
  {
   "cell_type": "code",
   "execution_count": null,
   "id": "81d21fba-11eb-4304-88a1-f5e6e943fafe",
   "metadata": {},
   "outputs": [],
   "source": [
    "x=int(input(\"enter age: \"))\n",
    "\n"
   ]
  },
  {
   "cell_type": "code",
   "execution_count": null,
   "id": "698a94fc-b8d8-44fc-be48-cb2ed8554aad",
   "metadata": {},
   "outputs": [],
   "source": [
    "total=0\n",
    "for x in range(4):\n",
    "    x=int(input(\"enter age\"))\n",
    "    total +=x\n",
    "    print(x, end=\",\")\n",
    "print(\"\\n\",total,total/4)"
   ]
  },
  {
   "cell_type": "code",
   "execution_count": null,
   "id": "38965c53-1bbf-4cc8-a18b-007c41f3d5bd",
   "metadata": {},
   "outputs": [],
   "source": []
  },
  {
   "cell_type": "code",
   "execution_count": 4,
   "id": "68af2528-f28c-414a-9f8f-66d7235049a3",
   "metadata": {},
   "outputs": [
    {
     "name": "stdin",
     "output_type": "stream",
     "text": [
      "enter age 2\n",
      "enter age 5\n",
      "enter age 7\n",
      "enter age 5\n"
     ]
    },
    {
     "name": "stdout",
     "output_type": "stream",
     "text": [
      "4.75\n"
     ]
    }
   ],
   "source": [
    "count=0\n",
    "total=0\n",
    "while count< 4:\n",
    "    x=int(input(\"enter age\"))\n",
    "    total+=x\n",
    "    count+=1\n",
    "print(total/count)"
   ]
  },
  {
   "cell_type": "code",
   "execution_count": 6,
   "id": "249713e1-1731-4050-96f0-2f79b0cd6f62",
   "metadata": {},
   "outputs": [
    {
     "name": "stdout",
     "output_type": "stream",
     "text": [
      "D\n"
     ]
    }
   ],
   "source": [
    "score=67\n",
    "if score>=90:\n",
    "    print(\"A\")\n",
    "elif score>=80:\n",
    "    print(\"B\")\n",
    "elif score>=70:\n",
    "    print(\"C\")\n",
    "elif score>=60:\n",
    "    print(\"D\")\n",
    "else:\n",
    "    print(\"E\")"
   ]
  },
  {
   "cell_type": "code",
   "execution_count": 12,
   "id": "270999a0-f2df-4029-b2a0-14cc1dbb0fcc",
   "metadata": {},
   "outputs": [
    {
     "name": "stdin",
     "output_type": "stream",
     "text": [
      "name John\n",
      "name al\n",
      "name kjs\n",
      "name s\n",
      "name \n",
      "name s\n",
      "name \n",
      "name ALEX\n",
      "name S,S,\n",
      "name Alex\n"
     ]
    }
   ],
   "source": [
    "check = True\n",
    "while check:\n",
    "    name=input(\"name\")\n",
    "    if \"Alex\" in name:\n",
    "        check =False"
   ]
  },
  {
   "cell_type": "code",
   "execution_count": 1,
   "id": "ba152dd9-072d-4c28-a29d-6040cb605c72",
   "metadata": {},
   "outputs": [],
   "source": [
    "def alex():\n",
    "    print(\"hello mr alex\")"
   ]
  },
  {
   "cell_type": "code",
   "execution_count": 3,
   "id": "7bcac27f-efd2-45f9-a4fd-7cc9c5335540",
   "metadata": {},
   "outputs": [],
   "source": [
    "def greet(name):\n",
    "    print(\"hello\",name"
   ]
  },
  {
   "cell_type": "code",
   "execution_count": 4,
   "id": "4d5369a5-dda6-421e-a6d4-e6328a438957",
   "metadata": {},
   "outputs": [
    {
     "data": {
      "text/plain": [
       "'onion'"
      ]
     },
     "execution_count": 4,
     "metadata": {},
     "output_type": "execute_result"
    }
   ],
   "source": [
    "grocery=[\"tomatoes\",\"onion\",\"banana\"]\n",
    "grocery [1]"
   ]
  },
  {
   "cell_type": "code",
   "execution_count": 6,
   "id": "3028b1cf-16b0-45ab-bdf6-84fa4c53ca73",
   "metadata": {},
   "outputs": [
    {
     "name": "stdout",
     "output_type": "stream",
     "text": [
      "tomatoes\n",
      "['tomatoes', 'onion', 'banana']\n",
      "onion\n",
      "['tomatoes', 'onion', 'banana']\n",
      "banana\n",
      "['tomatoes', 'onion', 'banana']\n"
     ]
    }
   ],
   "source": [
    "ind = 0\n",
    "for item in grocery:\n",
    "    print(item)\n",
    "    \n",
    "    print(grocery)"
   ]
  },
  {
   "cell_type": "code",
   "execution_count": 8,
   "id": "65f0b826-aad0-4e8b-a590-884d8ad0f525",
   "metadata": {},
   "outputs": [
    {
     "name": "stdout",
     "output_type": "stream",
     "text": [
      "['tomatoes', 'onion', 'banana', 'cabbage']\n"
     ]
    }
   ],
   "source": [
    "grocery.append(\"cabbage\")\n",
    "print(grocery)"
   ]
  },
  {
   "cell_type": "code",
   "execution_count": 9,
   "id": "ba1ea277-7897-48c8-9c1d-b376dad18d69",
   "metadata": {},
   "outputs": [],
   "source": [
    "grocery.sort()"
   ]
  },
  {
   "cell_type": "code",
   "execution_count": 2,
   "id": "0a95eca7-0be3-43a9-8d7d-e282bfa27c18",
   "metadata": {},
   "outputs": [],
   "source": [
    "my_dictionary={\n",
    "    \"name\":\"person 2\",\n",
    "    \"age\":35,\n",
    "    \"salary\":400\n",
    "}"
   ]
  },
  {
   "cell_type": "code",
   "execution_count": 3,
   "id": "3ea93f7f-aefe-4f0d-9148-1f414d413b72",
   "metadata": {},
   "outputs": [
    {
     "name": "stdout",
     "output_type": "stream",
     "text": [
      "{'name': 'person 2', 'age': 35, 'salary': 400}\n"
     ]
    }
   ],
   "source": [
    "print(my_dictionary)"
   ]
  },
  {
   "cell_type": "code",
   "execution_count": 14,
   "id": "5d637189-6ac4-44fc-a580-5994244b160c",
   "metadata": {},
   "outputs": [],
   "source": [
    "my_dictionary={\n",
    "    \"name\":[ \"person 1\",\"person 2\",\"person 3\",\"person 4\",\"person 5\",],\n",
    "    \"age\":[35,100,34,456,67],\n",
    "}"
   ]
  },
  {
   "cell_type": "code",
   "execution_count": 16,
   "id": "00fe8473-09e9-42cc-943f-708b3d238d5a",
   "metadata": {},
   "outputs": [
    {
     "data": {
      "text/plain": [
       "{'name': ['person 1', 'person 2', 'person 3', 'person 4', 'person 5'],\n",
       " 'age': [35, 100, 34, 456, 67]}"
      ]
     },
     "execution_count": 16,
     "metadata": {},
     "output_type": "execute_result"
    }
   ],
   "source": [
    "my_dictionary\n"
   ]
  },
  {
   "cell_type": "code",
   "execution_count": 24,
   "id": "af5db247-3fa4-4b00-a31a-968fd0ee80ff",
   "metadata": {},
   "outputs": [],
   "source": [
    "import pandas as pd"
   ]
  },
  {
   "cell_type": "code",
   "execution_count": 20,
   "id": "f3466f9c-8fce-4df4-ba3a-d0db4e369cb4",
   "metadata": {},
   "outputs": [
    {
     "data": {
      "text/plain": [
       "{'name': ['person 1', 'person 2', 'person 3', 'person 4', 'person 5'],\n",
       " 'age': [35, 100, 34, 456, 67]}"
      ]
     },
     "execution_count": 20,
     "metadata": {},
     "output_type": "execute_result"
    }
   ],
   "source": [
    "my_dictionary"
   ]
  },
  {
   "cell_type": "code",
   "execution_count": 25,
   "id": "5868b4e2-a899-4a77-a4bd-75b789ad36b8",
   "metadata": {},
   "outputs": [],
   "source": [
    "df=pd.DataFrame(my_dictionary)"
   ]
  },
  {
   "cell_type": "code",
   "execution_count": 26,
   "id": "7c17d4b9-8b3a-4c49-90b3-52e204a9b481",
   "metadata": {},
   "outputs": [
    {
     "data": {
      "text/html": [
       "<div>\n",
       "<style scoped>\n",
       "    .dataframe tbody tr th:only-of-type {\n",
       "        vertical-align: middle;\n",
       "    }\n",
       "\n",
       "    .dataframe tbody tr th {\n",
       "        vertical-align: top;\n",
       "    }\n",
       "\n",
       "    .dataframe thead th {\n",
       "        text-align: right;\n",
       "    }\n",
       "</style>\n",
       "<table border=\"1\" class=\"dataframe\">\n",
       "  <thead>\n",
       "    <tr style=\"text-align: right;\">\n",
       "      <th></th>\n",
       "      <th>name</th>\n",
       "      <th>age</th>\n",
       "    </tr>\n",
       "  </thead>\n",
       "  <tbody>\n",
       "    <tr>\n",
       "      <th>0</th>\n",
       "      <td>person 1</td>\n",
       "      <td>35</td>\n",
       "    </tr>\n",
       "    <tr>\n",
       "      <th>1</th>\n",
       "      <td>person 2</td>\n",
       "      <td>100</td>\n",
       "    </tr>\n",
       "    <tr>\n",
       "      <th>2</th>\n",
       "      <td>person 3</td>\n",
       "      <td>34</td>\n",
       "    </tr>\n",
       "    <tr>\n",
       "      <th>3</th>\n",
       "      <td>person 4</td>\n",
       "      <td>456</td>\n",
       "    </tr>\n",
       "    <tr>\n",
       "      <th>4</th>\n",
       "      <td>person 5</td>\n",
       "      <td>67</td>\n",
       "    </tr>\n",
       "  </tbody>\n",
       "</table>\n",
       "</div>"
      ],
      "text/plain": [
       "       name  age\n",
       "0  person 1   35\n",
       "1  person 2  100\n",
       "2  person 3   34\n",
       "3  person 4  456\n",
       "4  person 5   67"
      ]
     },
     "execution_count": 26,
     "metadata": {},
     "output_type": "execute_result"
    }
   ],
   "source": [
    "df"
   ]
  },
  {
   "cell_type": "code",
   "execution_count": 30,
   "id": "72544d10-6e6e-4a72-84a3-47f4ae671379",
   "metadata": {},
   "outputs": [
    {
     "data": {
      "text/html": [
       "<div>\n",
       "<style scoped>\n",
       "    .dataframe tbody tr th:only-of-type {\n",
       "        vertical-align: middle;\n",
       "    }\n",
       "\n",
       "    .dataframe tbody tr th {\n",
       "        vertical-align: top;\n",
       "    }\n",
       "\n",
       "    .dataframe thead th {\n",
       "        text-align: right;\n",
       "    }\n",
       "</style>\n",
       "<table border=\"1\" class=\"dataframe\">\n",
       "  <thead>\n",
       "    <tr style=\"text-align: right;\">\n",
       "      <th></th>\n",
       "      <th>age</th>\n",
       "      <th>age</th>\n",
       "    </tr>\n",
       "  </thead>\n",
       "  <tbody>\n",
       "    <tr>\n",
       "      <th>0</th>\n",
       "      <td>35</td>\n",
       "      <td>35</td>\n",
       "    </tr>\n",
       "    <tr>\n",
       "      <th>1</th>\n",
       "      <td>100</td>\n",
       "      <td>100</td>\n",
       "    </tr>\n",
       "    <tr>\n",
       "      <th>2</th>\n",
       "      <td>34</td>\n",
       "      <td>34</td>\n",
       "    </tr>\n",
       "    <tr>\n",
       "      <th>3</th>\n",
       "      <td>456</td>\n",
       "      <td>456</td>\n",
       "    </tr>\n",
       "    <tr>\n",
       "      <th>4</th>\n",
       "      <td>67</td>\n",
       "      <td>67</td>\n",
       "    </tr>\n",
       "  </tbody>\n",
       "</table>\n",
       "</div>"
      ],
      "text/plain": [
       "   age  age\n",
       "0   35   35\n",
       "1  100  100\n",
       "2   34   34\n",
       "3  456  456\n",
       "4   67   67"
      ]
     },
     "execution_count": 30,
     "metadata": {},
     "output_type": "execute_result"
    }
   ],
   "source": [
    "df[[\"age\", \"age\"]]"
   ]
  },
  {
   "cell_type": "code",
   "execution_count": 33,
   "id": "d723873b-90a0-43f2-892e-4c9da1f7fdbe",
   "metadata": {},
   "outputs": [
    {
     "data": {
      "text/plain": [
       "0     36\n",
       "1    101\n",
       "2     35\n",
       "3    457\n",
       "4     68\n",
       "Name: age, dtype: int64"
      ]
     },
     "execution_count": 33,
     "metadata": {},
     "output_type": "execute_result"
    }
   ],
   "source": [
    "df[\"age\"]+1"
   ]
  },
  {
   "cell_type": "code",
   "execution_count": null,
   "id": "1a217a8c-d383-4392-8c04-23b2d0156256",
   "metadata": {},
   "outputs": [],
   "source": []
  },
  {
   "cell_type": "code",
   "execution_count": null,
   "id": "41e30cab-fe9f-43b7-b450-8f714820425f",
   "metadata": {},
   "outputs": [],
   "source": []
  }
 ],
 "metadata": {
  "kernelspec": {
   "display_name": "Python 3 (ipykernel)",
   "language": "python",
   "name": "python3"
  },
  "language_info": {
   "codemirror_mode": {
    "name": "ipython",
    "version": 3
   },
   "file_extension": ".py",
   "mimetype": "text/x-python",
   "name": "python",
   "nbconvert_exporter": "python",
   "pygments_lexer": "ipython3",
   "version": "3.12.4"
  }
 },
 "nbformat": 4,
 "nbformat_minor": 5
}
